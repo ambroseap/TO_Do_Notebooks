{
 "cells": [
  {
   "cell_type": "code",
   "execution_count": 1,
   "metadata": {},
   "outputs": [],
   "source": [
    "import pandas as pd\n",
    "from pandas import Series,DataFrame\n",
    "import numpy as np\n",
    "from numpy.random import randn\n",
    "\n",
    "import matplotlib.pyplot as plt\n",
    "import seaborn as sns\n",
    "sns.set_style('whitegrid')\n",
    "%matplotlib inline"
   ]
  },
  {
   "cell_type": "code",
   "execution_count": 7,
   "metadata": {},
   "outputs": [],
   "source": [
    "df = pd.read_csv('Untitled spreadsheet - ambrose10.csv')"
   ]
  },
  {
   "cell_type": "code",
   "execution_count": 8,
   "metadata": {},
   "outputs": [
    {
     "data": {
      "text/plain": [
       "Unnamed: 0             0\n",
       "Payment Ref. Number    0\n",
       "Receipt No             0\n",
       "Payment Period         0\n",
       "Customer Name          0\n",
       "Payment Item           0\n",
       "Amount                 0\n",
       "Payment Method         0\n",
       "Deposit Slip           0\n",
       "Bank                   0\n",
       "Revenue Category       0\n",
       "Bank Branch            0\n",
       "Unnamed: 11            0\n",
       "Payment Code           0\n",
       "Settlement Date        0\n",
       "day                    0\n",
       "month                  0\n",
       "year                   0\n",
       "dtype: int64"
      ]
     },
     "execution_count": 8,
     "metadata": {},
     "output_type": "execute_result"
    }
   ],
   "source": [
    "df.isna().sum()"
   ]
  },
  {
   "cell_type": "code",
   "execution_count": 12,
   "metadata": {},
   "outputs": [],
   "source": [
    "df['Amount'] = df['Amount'].str.replace('N', '')\n"
   ]
  },
  {
   "cell_type": "code",
   "execution_count": 13,
   "metadata": {},
   "outputs": [],
   "source": [
    "df['Amount'] = df['Amount'].str.replace(',', '')"
   ]
  },
  {
   "cell_type": "code",
   "execution_count": 14,
   "metadata": {},
   "outputs": [
    {
     "data": {
      "text/plain": [
       "0         409751.00\n",
       "1            300.00\n",
       "2         139800.89\n",
       "3        1682909.81\n",
       "4        6017198.72\n",
       "5         167104.87\n",
       "6          22750.11\n",
       "7           5000.00\n",
       "8        1744011.99\n",
       "9           5000.00\n",
       "10         85103.62\n",
       "11         28185.00\n",
       "12          8000.00\n",
       "13         59400.00\n",
       "14          5000.00\n",
       "15         16422.00\n",
       "16        340382.53\n",
       "17          5000.00\n",
       "18          8507.00\n",
       "19        173780.38\n",
       "20         35000.00\n",
       "21          5000.00\n",
       "22          5000.00\n",
       "23          3000.00\n",
       "24         88187.11\n",
       "25         16425.43\n",
       "26          5000.00\n",
       "27          5100.00\n",
       "28         35000.07\n",
       "29         26600.00\n",
       "           ...     \n",
       "5991        2000.00\n",
       "5992        5000.00\n",
       "5993        2000.00\n",
       "5994       14600.00\n",
       "5995        2000.00\n",
       "5996       12856.00\n",
       "5997        2000.00\n",
       "5998       71720.00\n",
       "5999        9000.00\n",
       "6000       12000.00\n",
       "6001      100000.00\n",
       "6002       12000.00\n",
       "6003       15000.00\n",
       "6004      215335.00\n",
       "6005          10.00\n",
       "6006      336150.00\n",
       "6007      336150.00\n",
       "6008       10000.00\n",
       "6009     5924404.00\n",
       "6010    27872880.00\n",
       "6011       84969.00\n",
       "6012      928042.00\n",
       "6013        1957.00\n",
       "6014      113064.00\n",
       "6015       13314.00\n",
       "6016       19110.00\n",
       "6017       20000.00\n",
       "6018      500000.00\n",
       "6019       67126.00\n",
       "6020        3000.00\n",
       "Name: Amount, Length: 6021, dtype: float64"
      ]
     },
     "execution_count": 14,
     "metadata": {},
     "output_type": "execute_result"
    }
   ],
   "source": [
    "df['Amount'].astype(float)\n"
   ]
  },
  {
   "cell_type": "code",
   "execution_count": null,
   "metadata": {},
   "outputs": [],
   "source": []
  },
  {
   "cell_type": "code",
   "execution_count": 16,
   "metadata": {},
   "outputs": [
    {
     "name": "stdout",
     "output_type": "stream",
     "text": [
      "<class 'pandas.core.frame.DataFrame'>\n",
      "RangeIndex: 6021 entries, 0 to 6020\n",
      "Data columns (total 18 columns):\n",
      "Unnamed: 0             6021 non-null int64\n",
      "Payment Ref. Number    6021 non-null object\n",
      "Receipt No             6021 non-null int64\n",
      "Payment Period         6021 non-null object\n",
      "Customer Name          6021 non-null object\n",
      "Payment Item           6021 non-null object\n",
      "Amount                 6021 non-null object\n",
      "Payment Method         6021 non-null object\n",
      "Deposit Slip           6021 non-null object\n",
      "Bank                   6021 non-null object\n",
      "Revenue Category       6021 non-null object\n",
      "Bank Branch            6021 non-null object\n",
      "Unnamed: 11            6021 non-null object\n",
      "Payment Code           6021 non-null object\n",
      "Settlement Date        6021 non-null object\n",
      "day                    6021 non-null int64\n",
      "month                  6021 non-null int64\n",
      "year                   6021 non-null int64\n",
      "dtypes: int64(5), object(13)\n",
      "memory usage: 846.8+ KB\n"
     ]
    }
   ],
   "source": [
    "df.info()"
   ]
  },
  {
   "cell_type": "code",
   "execution_count": 17,
   "metadata": {},
   "outputs": [],
   "source": [
    "df.to_csv('am36.csv')"
   ]
  },
  {
   "cell_type": "code",
   "execution_count": null,
   "metadata": {},
   "outputs": [],
   "source": []
  }
 ],
 "metadata": {
  "kernelspec": {
   "display_name": "Python 2",
   "language": "python",
   "name": "python2"
  },
  "language_info": {
   "codemirror_mode": {
    "name": "ipython",
    "version": 2
   },
   "file_extension": ".py",
   "mimetype": "text/x-python",
   "name": "python",
   "nbconvert_exporter": "python",
   "pygments_lexer": "ipython2",
   "version": "2.7.16"
  }
 },
 "nbformat": 4,
 "nbformat_minor": 2
}
