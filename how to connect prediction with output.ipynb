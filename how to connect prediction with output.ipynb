{
 "cells": [
  {
   "cell_type": "code",
   "execution_count": 5,
   "metadata": {},
   "outputs": [],
   "source": [
    "import pandas as pd\n",
    "import numpy as np\n",
    "from matplotlib import pyplot as plt\n",
    "import seaborn as sns"
   ]
  },
  {
   "cell_type": "code",
   "execution_count": 6,
   "metadata": {},
   "outputs": [
    {
     "data": {
      "text/html": [
       "<div>\n",
       "<style scoped>\n",
       "    .dataframe tbody tr th:only-of-type {\n",
       "        vertical-align: middle;\n",
       "    }\n",
       "\n",
       "    .dataframe tbody tr th {\n",
       "        vertical-align: top;\n",
       "    }\n",
       "\n",
       "    .dataframe thead th {\n",
       "        text-align: right;\n",
       "    }\n",
       "</style>\n",
       "<table border=\"1\" class=\"dataframe\">\n",
       "  <thead>\n",
       "    <tr style=\"text-align: right;\">\n",
       "      <th></th>\n",
       "      <th>State</th>\n",
       "      <th>VMail Message</th>\n",
       "      <th>Day Mins</th>\n",
       "      <th>Eve Mins</th>\n",
       "      <th>Night Mins</th>\n",
       "      <th>Intl Mins</th>\n",
       "      <th>CustServ Calls</th>\n",
       "      <th>Day Calls</th>\n",
       "      <th>Day Charge</th>\n",
       "      <th>Eve Calls</th>\n",
       "      <th>...</th>\n",
       "      <th>Night Calls</th>\n",
       "      <th>Night Charge</th>\n",
       "      <th>Intl Calls</th>\n",
       "      <th>Intl Charge</th>\n",
       "      <th>Area Code</th>\n",
       "      <th>Phone</th>\n",
       "      <th>Account Length</th>\n",
       "      <th>Churn</th>\n",
       "      <th>Int'l Plan</th>\n",
       "      <th>VMail Plan</th>\n",
       "    </tr>\n",
       "  </thead>\n",
       "  <tbody>\n",
       "    <tr>\n",
       "      <th>0</th>\n",
       "      <td>KS</td>\n",
       "      <td>25</td>\n",
       "      <td>265.1</td>\n",
       "      <td>197.4</td>\n",
       "      <td>244.7</td>\n",
       "      <td>10.0</td>\n",
       "      <td>1</td>\n",
       "      <td>110</td>\n",
       "      <td>45.07</td>\n",
       "      <td>99</td>\n",
       "      <td>...</td>\n",
       "      <td>91</td>\n",
       "      <td>11.01</td>\n",
       "      <td>3</td>\n",
       "      <td>2.70</td>\n",
       "      <td>415</td>\n",
       "      <td>382-4657</td>\n",
       "      <td>128</td>\n",
       "      <td>0</td>\n",
       "      <td>0</td>\n",
       "      <td>1</td>\n",
       "    </tr>\n",
       "    <tr>\n",
       "      <th>1</th>\n",
       "      <td>OH</td>\n",
       "      <td>26</td>\n",
       "      <td>161.6</td>\n",
       "      <td>195.5</td>\n",
       "      <td>254.4</td>\n",
       "      <td>13.7</td>\n",
       "      <td>1</td>\n",
       "      <td>123</td>\n",
       "      <td>27.47</td>\n",
       "      <td>103</td>\n",
       "      <td>...</td>\n",
       "      <td>103</td>\n",
       "      <td>11.45</td>\n",
       "      <td>3</td>\n",
       "      <td>3.70</td>\n",
       "      <td>415</td>\n",
       "      <td>371-7191</td>\n",
       "      <td>107</td>\n",
       "      <td>0</td>\n",
       "      <td>0</td>\n",
       "      <td>1</td>\n",
       "    </tr>\n",
       "    <tr>\n",
       "      <th>2</th>\n",
       "      <td>NJ</td>\n",
       "      <td>0</td>\n",
       "      <td>243.4</td>\n",
       "      <td>121.2</td>\n",
       "      <td>162.6</td>\n",
       "      <td>12.2</td>\n",
       "      <td>0</td>\n",
       "      <td>114</td>\n",
       "      <td>41.38</td>\n",
       "      <td>110</td>\n",
       "      <td>...</td>\n",
       "      <td>104</td>\n",
       "      <td>7.32</td>\n",
       "      <td>5</td>\n",
       "      <td>3.29</td>\n",
       "      <td>415</td>\n",
       "      <td>358-1921</td>\n",
       "      <td>137</td>\n",
       "      <td>0</td>\n",
       "      <td>0</td>\n",
       "      <td>0</td>\n",
       "    </tr>\n",
       "    <tr>\n",
       "      <th>3</th>\n",
       "      <td>OH</td>\n",
       "      <td>0</td>\n",
       "      <td>299.4</td>\n",
       "      <td>61.9</td>\n",
       "      <td>196.9</td>\n",
       "      <td>6.6</td>\n",
       "      <td>2</td>\n",
       "      <td>71</td>\n",
       "      <td>50.90</td>\n",
       "      <td>88</td>\n",
       "      <td>...</td>\n",
       "      <td>89</td>\n",
       "      <td>8.86</td>\n",
       "      <td>7</td>\n",
       "      <td>1.78</td>\n",
       "      <td>408</td>\n",
       "      <td>375-9999</td>\n",
       "      <td>84</td>\n",
       "      <td>0</td>\n",
       "      <td>1</td>\n",
       "      <td>0</td>\n",
       "    </tr>\n",
       "    <tr>\n",
       "      <th>4</th>\n",
       "      <td>OK</td>\n",
       "      <td>0</td>\n",
       "      <td>166.7</td>\n",
       "      <td>148.3</td>\n",
       "      <td>186.9</td>\n",
       "      <td>10.1</td>\n",
       "      <td>3</td>\n",
       "      <td>113</td>\n",
       "      <td>28.34</td>\n",
       "      <td>122</td>\n",
       "      <td>...</td>\n",
       "      <td>121</td>\n",
       "      <td>8.41</td>\n",
       "      <td>3</td>\n",
       "      <td>2.73</td>\n",
       "      <td>415</td>\n",
       "      <td>330-6626</td>\n",
       "      <td>75</td>\n",
       "      <td>0</td>\n",
       "      <td>1</td>\n",
       "      <td>0</td>\n",
       "    </tr>\n",
       "    <tr>\n",
       "      <th>5</th>\n",
       "      <td>AL</td>\n",
       "      <td>0</td>\n",
       "      <td>223.4</td>\n",
       "      <td>220.6</td>\n",
       "      <td>203.9</td>\n",
       "      <td>6.3</td>\n",
       "      <td>0</td>\n",
       "      <td>98</td>\n",
       "      <td>37.98</td>\n",
       "      <td>101</td>\n",
       "      <td>...</td>\n",
       "      <td>118</td>\n",
       "      <td>9.18</td>\n",
       "      <td>6</td>\n",
       "      <td>1.70</td>\n",
       "      <td>510</td>\n",
       "      <td>391-8027</td>\n",
       "      <td>118</td>\n",
       "      <td>0</td>\n",
       "      <td>1</td>\n",
       "      <td>0</td>\n",
       "    </tr>\n",
       "  </tbody>\n",
       "</table>\n",
       "<p>6 rows × 21 columns</p>\n",
       "</div>"
      ],
      "text/plain": [
       "  State  VMail Message  Day Mins  Eve Mins  Night Mins  Intl Mins  \\\n",
       "0    KS             25     265.1     197.4       244.7       10.0   \n",
       "1    OH             26     161.6     195.5       254.4       13.7   \n",
       "2    NJ              0     243.4     121.2       162.6       12.2   \n",
       "3    OH              0     299.4      61.9       196.9        6.6   \n",
       "4    OK              0     166.7     148.3       186.9       10.1   \n",
       "5    AL              0     223.4     220.6       203.9        6.3   \n",
       "\n",
       "   CustServ Calls  Day Calls  Day Charge  Eve Calls  ...  Night Calls  \\\n",
       "0               1        110       45.07         99  ...           91   \n",
       "1               1        123       27.47        103  ...          103   \n",
       "2               0        114       41.38        110  ...          104   \n",
       "3               2         71       50.90         88  ...           89   \n",
       "4               3        113       28.34        122  ...          121   \n",
       "5               0         98       37.98        101  ...          118   \n",
       "\n",
       "   Night Charge  Intl Calls  Intl Charge  Area Code     Phone Account Length  \\\n",
       "0         11.01           3         2.70        415  382-4657            128   \n",
       "1         11.45           3         3.70        415  371-7191            107   \n",
       "2          7.32           5         3.29        415  358-1921            137   \n",
       "3          8.86           7         1.78        408  375-9999             84   \n",
       "4          8.41           3         2.73        415  330-6626             75   \n",
       "5          9.18           6         1.70        510  391-8027            118   \n",
       "\n",
       "   Churn  Int'l Plan  VMail Plan  \n",
       "0      0           0           1  \n",
       "1      0           0           1  \n",
       "2      0           0           0  \n",
       "3      0           1           0  \n",
       "4      0           1           0  \n",
       "5      0           1           0  \n",
       "\n",
       "[6 rows x 21 columns]"
      ]
     },
     "execution_count": 6,
     "metadata": {},
     "output_type": "execute_result"
    }
   ],
   "source": [
    "data = pd.read_csv(\"telco_join.csv\")\n",
    "data.head(6)"
   ]
  },
  {
   "cell_type": "code",
   "execution_count": 7,
   "metadata": {},
   "outputs": [],
   "source": [
    "from sklearn.preprocessing import LabelEncoder"
   ]
  },
  {
   "cell_type": "code",
   "execution_count": 8,
   "metadata": {},
   "outputs": [],
   "source": [
    "STATUSs = LabelEncoder()\n",
    "UNITSs = LabelEncoder()\n",
    "State = LabelEncoder()\n",
    "Phone = LabelEncoder()"
   ]
  },
  {
   "cell_type": "code",
   "execution_count": 9,
   "metadata": {},
   "outputs": [],
   "source": [
    "data['State'] = STATUSs.fit_transform(data['State'])\n",
    "\n",
    "data['Phone'] = STATUSs.fit_transform(data['Phone'])"
   ]
  },
  {
   "cell_type": "code",
   "execution_count": 10,
   "metadata": {},
   "outputs": [
    {
     "data": {
      "text/html": [
       "<div>\n",
       "<style scoped>\n",
       "    .dataframe tbody tr th:only-of-type {\n",
       "        vertical-align: middle;\n",
       "    }\n",
       "\n",
       "    .dataframe tbody tr th {\n",
       "        vertical-align: top;\n",
       "    }\n",
       "\n",
       "    .dataframe thead th {\n",
       "        text-align: right;\n",
       "    }\n",
       "</style>\n",
       "<table border=\"1\" class=\"dataframe\">\n",
       "  <thead>\n",
       "    <tr style=\"text-align: right;\">\n",
       "      <th></th>\n",
       "      <th>State</th>\n",
       "      <th>VMail Message</th>\n",
       "      <th>Day Mins</th>\n",
       "      <th>Eve Mins</th>\n",
       "      <th>Night Mins</th>\n",
       "      <th>Intl Mins</th>\n",
       "      <th>CustServ Calls</th>\n",
       "      <th>Day Calls</th>\n",
       "      <th>Day Charge</th>\n",
       "      <th>Eve Calls</th>\n",
       "      <th>...</th>\n",
       "      <th>Night Calls</th>\n",
       "      <th>Night Charge</th>\n",
       "      <th>Intl Calls</th>\n",
       "      <th>Intl Charge</th>\n",
       "      <th>Area Code</th>\n",
       "      <th>Phone</th>\n",
       "      <th>Account Length</th>\n",
       "      <th>Churn</th>\n",
       "      <th>Int'l Plan</th>\n",
       "      <th>VMail Plan</th>\n",
       "    </tr>\n",
       "  </thead>\n",
       "  <tbody>\n",
       "    <tr>\n",
       "      <th>0</th>\n",
       "      <td>16</td>\n",
       "      <td>25</td>\n",
       "      <td>265.1</td>\n",
       "      <td>197.4</td>\n",
       "      <td>244.7</td>\n",
       "      <td>10.0</td>\n",
       "      <td>1</td>\n",
       "      <td>110</td>\n",
       "      <td>45.07</td>\n",
       "      <td>99</td>\n",
       "      <td>...</td>\n",
       "      <td>91</td>\n",
       "      <td>11.01</td>\n",
       "      <td>3</td>\n",
       "      <td>2.70</td>\n",
       "      <td>415</td>\n",
       "      <td>1926</td>\n",
       "      <td>128</td>\n",
       "      <td>0</td>\n",
       "      <td>0</td>\n",
       "      <td>1</td>\n",
       "    </tr>\n",
       "    <tr>\n",
       "      <th>1</th>\n",
       "      <td>35</td>\n",
       "      <td>26</td>\n",
       "      <td>161.6</td>\n",
       "      <td>195.5</td>\n",
       "      <td>254.4</td>\n",
       "      <td>13.7</td>\n",
       "      <td>1</td>\n",
       "      <td>123</td>\n",
       "      <td>27.47</td>\n",
       "      <td>103</td>\n",
       "      <td>...</td>\n",
       "      <td>103</td>\n",
       "      <td>11.45</td>\n",
       "      <td>3</td>\n",
       "      <td>3.70</td>\n",
       "      <td>415</td>\n",
       "      <td>1575</td>\n",
       "      <td>107</td>\n",
       "      <td>0</td>\n",
       "      <td>0</td>\n",
       "      <td>1</td>\n",
       "    </tr>\n",
       "    <tr>\n",
       "      <th>2</th>\n",
       "      <td>31</td>\n",
       "      <td>0</td>\n",
       "      <td>243.4</td>\n",
       "      <td>121.2</td>\n",
       "      <td>162.6</td>\n",
       "      <td>12.2</td>\n",
       "      <td>0</td>\n",
       "      <td>114</td>\n",
       "      <td>41.38</td>\n",
       "      <td>110</td>\n",
       "      <td>...</td>\n",
       "      <td>104</td>\n",
       "      <td>7.32</td>\n",
       "      <td>5</td>\n",
       "      <td>3.29</td>\n",
       "      <td>415</td>\n",
       "      <td>1117</td>\n",
       "      <td>137</td>\n",
       "      <td>0</td>\n",
       "      <td>0</td>\n",
       "      <td>0</td>\n",
       "    </tr>\n",
       "    <tr>\n",
       "      <th>3</th>\n",
       "      <td>35</td>\n",
       "      <td>0</td>\n",
       "      <td>299.4</td>\n",
       "      <td>61.9</td>\n",
       "      <td>196.9</td>\n",
       "      <td>6.6</td>\n",
       "      <td>2</td>\n",
       "      <td>71</td>\n",
       "      <td>50.90</td>\n",
       "      <td>88</td>\n",
       "      <td>...</td>\n",
       "      <td>89</td>\n",
       "      <td>8.86</td>\n",
       "      <td>7</td>\n",
       "      <td>1.78</td>\n",
       "      <td>408</td>\n",
       "      <td>1707</td>\n",
       "      <td>84</td>\n",
       "      <td>0</td>\n",
       "      <td>1</td>\n",
       "      <td>0</td>\n",
       "    </tr>\n",
       "    <tr>\n",
       "      <th>4</th>\n",
       "      <td>36</td>\n",
       "      <td>0</td>\n",
       "      <td>166.7</td>\n",
       "      <td>148.3</td>\n",
       "      <td>186.9</td>\n",
       "      <td>10.1</td>\n",
       "      <td>3</td>\n",
       "      <td>113</td>\n",
       "      <td>28.34</td>\n",
       "      <td>122</td>\n",
       "      <td>...</td>\n",
       "      <td>121</td>\n",
       "      <td>8.41</td>\n",
       "      <td>3</td>\n",
       "      <td>2.73</td>\n",
       "      <td>415</td>\n",
       "      <td>110</td>\n",
       "      <td>75</td>\n",
       "      <td>0</td>\n",
       "      <td>1</td>\n",
       "      <td>0</td>\n",
       "    </tr>\n",
       "    <tr>\n",
       "      <th>5</th>\n",
       "      <td>1</td>\n",
       "      <td>0</td>\n",
       "      <td>223.4</td>\n",
       "      <td>220.6</td>\n",
       "      <td>203.9</td>\n",
       "      <td>6.3</td>\n",
       "      <td>0</td>\n",
       "      <td>98</td>\n",
       "      <td>37.98</td>\n",
       "      <td>101</td>\n",
       "      <td>...</td>\n",
       "      <td>118</td>\n",
       "      <td>9.18</td>\n",
       "      <td>6</td>\n",
       "      <td>1.70</td>\n",
       "      <td>510</td>\n",
       "      <td>2253</td>\n",
       "      <td>118</td>\n",
       "      <td>0</td>\n",
       "      <td>1</td>\n",
       "      <td>0</td>\n",
       "    </tr>\n",
       "    <tr>\n",
       "      <th>6</th>\n",
       "      <td>19</td>\n",
       "      <td>24</td>\n",
       "      <td>218.2</td>\n",
       "      <td>348.5</td>\n",
       "      <td>212.6</td>\n",
       "      <td>7.5</td>\n",
       "      <td>3</td>\n",
       "      <td>88</td>\n",
       "      <td>37.09</td>\n",
       "      <td>108</td>\n",
       "      <td>...</td>\n",
       "      <td>118</td>\n",
       "      <td>9.57</td>\n",
       "      <td>7</td>\n",
       "      <td>2.03</td>\n",
       "      <td>510</td>\n",
       "      <td>1047</td>\n",
       "      <td>121</td>\n",
       "      <td>0</td>\n",
       "      <td>0</td>\n",
       "      <td>1</td>\n",
       "    </tr>\n",
       "    <tr>\n",
       "      <th>7</th>\n",
       "      <td>24</td>\n",
       "      <td>0</td>\n",
       "      <td>157.0</td>\n",
       "      <td>103.1</td>\n",
       "      <td>211.8</td>\n",
       "      <td>7.1</td>\n",
       "      <td>0</td>\n",
       "      <td>79</td>\n",
       "      <td>26.69</td>\n",
       "      <td>94</td>\n",
       "      <td>...</td>\n",
       "      <td>96</td>\n",
       "      <td>9.53</td>\n",
       "      <td>6</td>\n",
       "      <td>1.92</td>\n",
       "      <td>415</td>\n",
       "      <td>80</td>\n",
       "      <td>147</td>\n",
       "      <td>0</td>\n",
       "      <td>1</td>\n",
       "      <td>0</td>\n",
       "    </tr>\n",
       "    <tr>\n",
       "      <th>8</th>\n",
       "      <td>18</td>\n",
       "      <td>0</td>\n",
       "      <td>184.5</td>\n",
       "      <td>351.6</td>\n",
       "      <td>215.8</td>\n",
       "      <td>8.7</td>\n",
       "      <td>1</td>\n",
       "      <td>97</td>\n",
       "      <td>31.37</td>\n",
       "      <td>80</td>\n",
       "      <td>...</td>\n",
       "      <td>90</td>\n",
       "      <td>9.71</td>\n",
       "      <td>4</td>\n",
       "      <td>2.35</td>\n",
       "      <td>408</td>\n",
       "      <td>291</td>\n",
       "      <td>117</td>\n",
       "      <td>0</td>\n",
       "      <td>0</td>\n",
       "      <td>0</td>\n",
       "    </tr>\n",
       "    <tr>\n",
       "      <th>9</th>\n",
       "      <td>49</td>\n",
       "      <td>37</td>\n",
       "      <td>258.6</td>\n",
       "      <td>222.0</td>\n",
       "      <td>326.4</td>\n",
       "      <td>11.2</td>\n",
       "      <td>0</td>\n",
       "      <td>84</td>\n",
       "      <td>43.96</td>\n",
       "      <td>111</td>\n",
       "      <td>...</td>\n",
       "      <td>97</td>\n",
       "      <td>14.69</td>\n",
       "      <td>5</td>\n",
       "      <td>3.02</td>\n",
       "      <td>415</td>\n",
       "      <td>117</td>\n",
       "      <td>141</td>\n",
       "      <td>0</td>\n",
       "      <td>1</td>\n",
       "      <td>1</td>\n",
       "    </tr>\n",
       "  </tbody>\n",
       "</table>\n",
       "<p>10 rows × 21 columns</p>\n",
       "</div>"
      ],
      "text/plain": [
       "   State  VMail Message  Day Mins  Eve Mins  Night Mins  Intl Mins  \\\n",
       "0     16             25     265.1     197.4       244.7       10.0   \n",
       "1     35             26     161.6     195.5       254.4       13.7   \n",
       "2     31              0     243.4     121.2       162.6       12.2   \n",
       "3     35              0     299.4      61.9       196.9        6.6   \n",
       "4     36              0     166.7     148.3       186.9       10.1   \n",
       "5      1              0     223.4     220.6       203.9        6.3   \n",
       "6     19             24     218.2     348.5       212.6        7.5   \n",
       "7     24              0     157.0     103.1       211.8        7.1   \n",
       "8     18              0     184.5     351.6       215.8        8.7   \n",
       "9     49             37     258.6     222.0       326.4       11.2   \n",
       "\n",
       "   CustServ Calls  Day Calls  Day Charge  Eve Calls  ...  Night Calls  \\\n",
       "0               1        110       45.07         99  ...           91   \n",
       "1               1        123       27.47        103  ...          103   \n",
       "2               0        114       41.38        110  ...          104   \n",
       "3               2         71       50.90         88  ...           89   \n",
       "4               3        113       28.34        122  ...          121   \n",
       "5               0         98       37.98        101  ...          118   \n",
       "6               3         88       37.09        108  ...          118   \n",
       "7               0         79       26.69         94  ...           96   \n",
       "8               1         97       31.37         80  ...           90   \n",
       "9               0         84       43.96        111  ...           97   \n",
       "\n",
       "   Night Charge  Intl Calls  Intl Charge  Area Code  Phone  Account Length  \\\n",
       "0         11.01           3         2.70        415   1926             128   \n",
       "1         11.45           3         3.70        415   1575             107   \n",
       "2          7.32           5         3.29        415   1117             137   \n",
       "3          8.86           7         1.78        408   1707              84   \n",
       "4          8.41           3         2.73        415    110              75   \n",
       "5          9.18           6         1.70        510   2253             118   \n",
       "6          9.57           7         2.03        510   1047             121   \n",
       "7          9.53           6         1.92        415     80             147   \n",
       "8          9.71           4         2.35        408    291             117   \n",
       "9         14.69           5         3.02        415    117             141   \n",
       "\n",
       "   Churn  Int'l Plan  VMail Plan  \n",
       "0      0           0           1  \n",
       "1      0           0           1  \n",
       "2      0           0           0  \n",
       "3      0           1           0  \n",
       "4      0           1           0  \n",
       "5      0           1           0  \n",
       "6      0           0           1  \n",
       "7      0           1           0  \n",
       "8      0           0           0  \n",
       "9      0           1           1  \n",
       "\n",
       "[10 rows x 21 columns]"
      ]
     },
     "execution_count": 10,
     "metadata": {},
     "output_type": "execute_result"
    }
   ],
   "source": [
    "data.head(10)"
   ]
  },
  {
   "cell_type": "code",
   "execution_count": 11,
   "metadata": {},
   "outputs": [],
   "source": [
    "X=data[['VMail Message', 'Day Mins', 'Eve Mins', 'Night Mins', 'Intl Mins', 'CustServ Calls', 'Area Code', 'Account Length','Day Calls', 'Day Charge', 'Eve Calls', 'Eve Charge', 'Night Calls', 'Night Charge', 'Intl Calls', 'Intl Charge', 'VMail Plan' ]]\n",
    "y=data.Churn "
   ]
  },
  {
   "cell_type": "code",
   "execution_count": 12,
   "metadata": {},
   "outputs": [
    {
     "name": "stderr",
     "output_type": "stream",
     "text": [
      "C:\\Users\\ericksen\\Anaconda2anacon\\lib\\site-packages\\sklearn\\preprocessing\\data.py:645: DataConversionWarning: Data with input dtype int64, float64 were all converted to float64 by StandardScaler.\n",
      "  return self.partial_fit(X, y)\n",
      "C:\\Users\\ericksen\\Anaconda2anacon\\lib\\site-packages\\sklearn\\base.py:464: DataConversionWarning: Data with input dtype int64, float64 were all converted to float64 by StandardScaler.\n",
      "  return self.fit(X, **fit_params).transform(X)\n"
     ]
    }
   ],
   "source": [
    "# Scale the data to be between -1 and 1\n",
    "from sklearn.preprocessing import StandardScaler\n",
    "scaler = StandardScaler()\n",
    "X=scaler.fit_transform(X)\n"
   ]
  },
  {
   "cell_type": "code",
   "execution_count": 13,
   "metadata": {},
   "outputs": [
    {
     "data": {
      "text/plain": [
       "array([[ 1.87675378e+00, -5.93781894e-01, -7.39233118e-01, ...,\n",
       "         4.69355946e-04, -1.50669128e-04,  1.84054887e-04],\n",
       "       [-4.54959894e-01, -2.49664510e-01,  1.30015197e+00, ...,\n",
       "        -6.06734594e-04, -3.76579207e-04, -1.93139438e-04],\n",
       "       [-1.50352582e+00, -8.01160552e-01, -2.68536256e+00, ...,\n",
       "        -8.98352564e-04,  3.62592297e-04,  1.22410578e-04],\n",
       "       ...,\n",
       "       [-3.09542513e-01,  2.04216458e+00, -1.34774563e-01, ...,\n",
       "        -1.45642401e-03, -3.00576180e-04,  2.65878305e-04],\n",
       "       [ 8.07578993e-01, -3.96968530e-01, -1.47315406e+00, ...,\n",
       "         1.22554159e-03, -5.62079520e-04,  2.64786343e-04],\n",
       "       [ 1.22174349e+00,  1.21780511e+00,  2.17781551e-02, ...,\n",
       "         9.16932012e-04,  2.33293175e-04,  9.63460238e-05]])"
      ]
     },
     "execution_count": 13,
     "metadata": {},
     "output_type": "execute_result"
    }
   ],
   "source": [
    "from sklearn.decomposition import PCA\n",
    "pca = PCA()\n",
    "pca.fit_transform(X)"
   ]
  },
  {
   "cell_type": "code",
   "execution_count": 14,
   "metadata": {},
   "outputs": [],
   "source": [
    "covariance=pca.get_covariance()\n",
    "explained_variance=pca.explained_variance_\n",
    "\n"
   ]
  },
  {
   "cell_type": "code",
   "execution_count": 15,
   "metadata": {},
   "outputs": [],
   "source": [
    "from sklearn.model_selection import train_test_split\n",
    "X_train, X_test, y_train, y_test = train_test_split(X,y,test_size=0.2,random_state=4)"
   ]
  },
  {
   "cell_type": "code",
   "execution_count": 16,
   "metadata": {},
   "outputs": [],
   "source": [
    "from sklearn.linear_model import LogisticRegression\n",
    "from sklearn.model_selection import cross_val_score\n",
    "from sklearn import metrics\n",
    "\n",
    "model_LR= LogisticRegression()"
   ]
  },
  {
   "cell_type": "code",
   "execution_count": 17,
   "metadata": {},
   "outputs": [
    {
     "name": "stderr",
     "output_type": "stream",
     "text": [
      "C:\\Users\\ericksen\\Anaconda2anacon\\lib\\site-packages\\sklearn\\linear_model\\logistic.py:433: FutureWarning: Default solver will be changed to 'lbfgs' in 0.22. Specify a solver to silence this warning.\n",
      "  FutureWarning)\n"
     ]
    },
    {
     "data": {
      "text/plain": [
       "LogisticRegression(C=1.0, class_weight=None, dual=False, fit_intercept=True,\n",
       "          intercept_scaling=1, max_iter=100, multi_class='warn',\n",
       "          n_jobs=None, penalty='l2', random_state=None, solver='warn',\n",
       "          tol=0.0001, verbose=0, warm_start=False)"
      ]
     },
     "execution_count": 17,
     "metadata": {},
     "output_type": "execute_result"
    }
   ],
   "source": [
    "model_LR.fit(X_train,y_train)\n"
   ]
  },
  {
   "cell_type": "code",
   "execution_count": 18,
   "metadata": {},
   "outputs": [
    {
     "data": {
      "text/plain": [
       "1.0"
      ]
     },
     "execution_count": 18,
     "metadata": {},
     "output_type": "execute_result"
    }
   ],
   "source": [
    "y_prob = model_LR.predict_proba(X_test)[:,1] # This will give you positive class prediction probabilities  \n",
    "y_pred = np.where(y_prob > 0.5, 1, 0) # This will threshold the probabilities to give class predictions.\n",
    "model_LR.score(X_test, y_pred)"
   ]
  },
  {
   "cell_type": "code",
   "execution_count": 19,
   "metadata": {},
   "outputs": [],
   "source": [
    "predictions = model_LR.predict(X)\n"
   ]
  },
  {
   "cell_type": "code",
   "execution_count": 20,
   "metadata": {},
   "outputs": [
    {
     "name": "stdout",
     "output_type": "stream",
     "text": [
      "('Testing Accuracy :', 0.8740629685157422)\n",
      "('Training Accuracy :', 0.8559639909977494)\n"
     ]
    }
   ],
   "source": [
    "print(\"Testing Accuracy :\", model_LR.score(X_test, y_test))\n",
    "print(\"Training Accuracy :\", model_LR.score(X_train,y_train))"
   ]
  },
  {
   "cell_type": "code",
   "execution_count": null,
   "metadata": {},
   "outputs": [],
   "source": []
  },
  {
   "cell_type": "code",
   "execution_count": null,
   "metadata": {},
   "outputs": [],
   "source": []
  },
  {
   "cell_type": "code",
   "execution_count": 109,
   "metadata": {},
   "outputs": [
    {
     "name": "stdout",
     "output_type": "stream",
     "text": [
      "(array([ 1.23488274,  1.56676695, -0.07060962,  0.86674322, -0.08500823,\n",
      "       -0.42793202, -0.52360328,  0.67648946,  0.47664315,  1.56703625,\n",
      "       -0.05594035, -0.07042665, -0.46549436,  0.86602851, -0.60119509,\n",
      "       -0.0856905 ,  1.6170861 ]), 0)\n",
      "(array([ 1.30794844, -0.33373776, -0.10808036,  1.05857074,  1.24048169,\n",
      "       -0.42793202, -0.52360328,  0.14906505,  1.12450284, -0.33401297,\n",
      "        0.14486653, -0.10754944,  0.14782467,  1.05938994, -0.60119509,\n",
      "        1.2411686 ,  1.6170861 ]), 0)\n",
      "(array([-0.59175986,  1.16830364, -1.57338336, -0.75686906,  0.70312091,\n",
      "       -1.1882185 , -0.52360328,  0.9025285 ,  0.67598459,  1.168464  ,\n",
      "        0.49627857, -1.57389963,  0.19893459, -0.75557074,  0.21153386,\n",
      "        0.69715637, -0.61839626]), 0)\n",
      "(array([-0.59175986,  2.19659605, -2.74286476, -0.07855114, -1.30302599,\n",
      "        0.33235445, -0.68883427, -0.42859027, -1.46693591,  2.19675881,\n",
      "       -0.60815927, -2.7432675 , -0.5677142 , -0.07880574,  1.02426282,\n",
      "       -1.30640087, -0.61839626]), 0)\n",
      "(array([-0.59175986, -0.24008971, -1.03893233, -0.27631146, -0.04918418,\n",
      "        1.09264093, -0.52360328, -0.6546293 ,  0.62614923, -0.24004065,\n",
      "        1.0986992 , -1.03793936,  1.06780322, -0.27656174, -0.60119509,\n",
      "       -0.04588472, -0.61839626]), 0)\n",
      "(array([-0.59175986,  0.80105636,  0.38692779,  0.05988109, -1.41049815,\n",
      "       -1.1882185 ,  1.71881732,  0.42533498, -0.12138118,  0.80121586,\n",
      "        0.04446309,  0.38664769,  0.91447346,  0.06182075,  0.61789834,\n",
      "       -1.41254959, -0.61839626]), 0)\n",
      "(array([ 1.16181703,  0.70557206,  2.90929999,  0.23193257, -0.98060953,\n",
      "        1.09264093,  1.71881732,  0.50068133, -0.61973478,  0.70508325,\n",
      "        0.39587513,  2.90867721,  0.91447346,  0.23320929,  1.02426282,\n",
      "       -0.97468609,  1.6170861 ]), 0)\n",
      "(array([-0.59175986, -0.41820464, -1.93034143,  0.21611175, -1.12390573,\n",
      "       -1.1882185 , -0.52360328,  1.15368299, -1.06825303, -0.41826401,\n",
      "       -0.30694895, -1.93120648, -0.20994477,  0.21563098,  0.61789834,\n",
      "       -1.12064059, -0.61839626]), 0)\n",
      "(array([-0.59175986,  0.08676038,  2.97043646,  0.29521588, -0.5507209 ,\n",
      "       -0.42793202, -0.68883427,  0.40021953, -0.17121654,  0.08724226,\n",
      "       -1.00977302,  2.97132192, -0.51660428,  0.29473338, -0.19483061,\n",
      "       -0.55009118, -0.61839626]), 0)\n",
      "(array([ 2.11167118,  1.44741158,  0.41453781,  2.48244509,  0.34488039,\n",
      "       -1.1882185 , -0.52360328,  1.00299029, -0.81907622,  1.44714054,\n",
      "        0.54648029,  0.41448978, -0.15883485,  2.48323318,  0.21153386,\n",
      "        0.33890442,  1.6170861 ]), 0)\n",
      "(array([-0.59175986, -0.93051461,  0.54272717,  0.15678365,  0.88224117,\n",
      "        1.8529274 , -0.52360328, -0.90578379,  1.82219789, -0.93025113,\n",
      "       -0.85916786,  0.54209937,  0.55670403,  0.15850147,  0.61789834,\n",
      "        0.88291665, -0.61839626]), 0)\n",
      "(array([-0.59175986,  0.14551995, -0.74113859, -0.09634957, -0.4074247 ,\n",
      "       -1.1882185 , -0.52360328, -0.67974475,  1.32384428,  0.1455699 ,\n",
      "        2.40394391, -0.74095704, -0.31216461, -0.09638405,  0.21153386,\n",
      "       -0.40413668, -0.61839626]), 0)\n",
      "(array([-0.59175986, -0.93602332, -1.89484284, -1.18205376,  0.34488039,\n",
      "       -0.42793202, -0.68883427,  1.6811074 , -0.2210519 , -0.93565184,\n",
      "       -1.4615885 , -1.89408369,  1.42557266, -1.18184479, -1.00755957,\n",
      "        0.33890442, -0.61839626]), 0)\n",
      "(array([-0.59175986, -0.42554959,  0.91940668, -0.16952089,  0.73894496,\n",
      "        1.09264093,  1.71881732, -0.15232033, -0.61973478, -0.42582501,\n",
      "       -1.26078162,  0.92028779,  0.7611437 , -0.17109187,  0.21153386,\n",
      "        0.73696215, -0.61839626]), 0)\n",
      "(array([-0.59175986, -1.08475847,  2.09480451,  0.04208266,  1.02553738,\n",
      "        1.8529274 , -0.52360328, -0.98113013, -1.51677127, -1.08471138,\n",
      "       -1.2105799 ,  2.09429601, -0.05661501,  0.04424244,  0.61789834,\n",
      "        1.02887115, -0.61839626]), 0)\n",
      "(array([-0.59175986,  2.81173526,  2.30385178, -0.79642112, -1.73291462,\n",
      "        1.8529274 , -0.52360328,  1.50529926, -1.66627735,  2.81135938,\n",
      "       -0.15634379,  2.3031117 ,  1.42557266, -0.79512194,  1.83699177,\n",
      "       -1.73099578, -0.61839626]), 1)\n",
      "(array([ 1.38101414,  0.30527252,  1.57613063, -2.20645225,  1.27630574,\n",
      "       -0.42793202, -0.68883427, -0.40347482,  1.92186861,  0.30543086,\n",
      "       -0.50775583,  1.57689713, -1.28325308, -2.20578144, -0.19483061,\n",
      "        1.28097438,  1.6170861 ]), 0)\n",
      "(array([-0.59175986,  0.20060704,  0.33959634, -1.40947813, -0.76566521,\n",
      "        1.09264093,  1.71881732, -0.20255123,  0.67598459,  0.20065712,\n",
      "        0.54648029,  0.34024421,  1.06780322, -1.41036284, -0.60119509,\n",
      "       -0.76238864, -0.61839626]), 0)\n",
      "(array([ 1.81940837,  0.18224468,  0.23310056, -0.69556336, -0.08500823,\n",
      "       -0.42793202,  1.71881732, -0.62951386, -1.71611272,  0.18229472,\n",
      "       -1.76279882,  0.23351619,  0.40337427, -0.69404665,  0.21153386,\n",
      "       -0.0856905 ,  1.6170861 ]), 0)\n",
      "(array([-0.59175986,  0.81941872, -0.8180522 , -0.15963287,  0.98971333,\n",
      "       -0.42793202, -0.52360328, -0.7048602 , -0.52006406,  0.81957826,\n",
      "       -0.60815927, -0.81752279, -1.334363  , -0.15790814, -1.00755957,\n",
      "        0.98906537, -0.61839626]), 0)\n"
     ]
    }
   ],
   "source": [
    "\n",
    "# connect predictions with outputs\n",
    "for i in range(20):\n",
    "    print(X[i], predictions[i])\n"
   ]
  },
  {
   "cell_type": "code",
   "execution_count": 23,
   "metadata": {},
   "outputs": [
    {
     "name": "stdout",
     "output_type": "stream",
     "text": [
      "(array([-0.59175986, -0.93051461,  0.54272717,  0.15678365,  0.88224117,\n",
      "        1.8529274 , -0.52360328, -0.90578379,  1.82219789, -0.93025113,\n",
      "       -0.85916786,  0.54209937,  0.55670403,  0.15850147,  0.61789834,\n",
      "        0.88291665, -0.61839626]), 0)\n"
     ]
    }
   ],
   "source": [
    "print(X[10], predictions[10])"
   ]
  },
  {
   "cell_type": "code",
   "execution_count": 113,
   "metadata": {},
   "outputs": [
    {
     "data": {
      "text/plain": [
       "array([0, 0, 0, 0, 0, 0, 0, 0, 0, 0, 0, 0, 0, 0, 0, 0, 0, 0, 0, 0, 0, 0,\n",
       "       0, 0, 0, 0, 0, 0, 0, 0, 0, 0, 0, 0, 0, 0, 0, 0, 0, 0, 0, 0, 0, 0,\n",
       "       0, 0, 0, 0, 0, 0, 0, 0, 0, 0, 0, 0, 0, 0, 0, 0, 0, 0, 0, 0, 0, 0,\n",
       "       0, 0, 0, 0, 0, 0, 0, 0, 0, 0, 0, 0, 0, 0, 0, 0, 0, 0, 0, 0, 0, 0,\n",
       "       0, 0, 0, 0, 0, 0, 0, 0, 0, 0, 0, 0, 0, 0, 0, 0, 0, 0, 0, 0, 0, 0,\n",
       "       0, 0, 0, 0, 0, 0, 0, 0, 0, 0, 0, 0, 0, 0, 0, 0, 0, 0, 0, 0, 0, 0,\n",
       "       0, 0, 0, 0, 0, 0, 1, 0, 0, 0, 0, 0, 0, 0, 0, 0, 0, 0, 0, 0, 0, 0,\n",
       "       0, 0, 0, 0, 0, 0, 0, 0, 1, 0, 0, 0, 0, 0, 0, 0, 0, 0, 0, 0, 0, 0,\n",
       "       0, 0, 0, 0, 0, 0, 0, 0, 0, 0, 0, 0, 0, 0, 0, 0, 0, 0, 0, 0, 0, 0,\n",
       "       0, 0, 0, 0, 0, 0, 0, 0, 0, 0, 0, 0, 0, 0, 0, 0, 0, 0, 0, 0, 0, 0,\n",
       "       0, 0, 0, 0, 0, 0, 0, 0, 0, 0, 0, 0, 0, 0, 0, 0, 0, 0, 0, 0, 0, 0,\n",
       "       0, 0, 0, 0, 0, 0, 0, 0, 0, 0, 0, 0, 0, 0, 0, 0, 0, 0, 0, 0, 0, 0,\n",
       "       0, 0, 0, 0, 0, 0, 0, 0, 0, 0, 0, 0, 0, 0, 0, 0, 0, 0, 0, 0, 0, 0,\n",
       "       0, 0, 0, 1, 0, 0, 0, 0, 0, 0, 0, 0, 0, 0, 0, 0, 0, 0, 0, 0, 0, 0,\n",
       "       0, 0, 0, 0, 0, 0, 0, 0, 0, 0, 0, 0, 1, 0, 0, 0, 0, 1, 0, 0, 0, 0,\n",
       "       0, 0, 0, 0, 0, 0, 0, 0, 0, 0, 0, 0, 0, 0, 0, 0, 0, 0, 0, 0, 0, 0,\n",
       "       0, 0, 0, 0, 0, 0, 0, 0, 0, 0, 0, 0, 0, 0, 0, 0, 0, 0, 0, 0, 0, 0,\n",
       "       0, 0, 0, 0, 0, 0, 0, 0, 0, 0, 0, 0, 0, 0, 0, 0, 0, 0, 0, 0, 0, 1,\n",
       "       0, 0, 0, 0, 0, 0, 0, 0, 0, 1, 0, 0, 0, 0, 0, 0, 0, 0, 0, 0, 0, 0,\n",
       "       0, 0, 0, 0, 1, 0, 0, 0, 0, 0, 0, 0, 0, 0, 0, 0, 0, 0, 0, 0, 0, 0,\n",
       "       0, 0, 0, 0, 0, 0, 0, 0, 0, 0, 0, 0, 0, 0, 0, 1, 0, 0, 0, 0, 0, 0,\n",
       "       0, 0, 0, 0, 0, 0, 0, 0, 0, 0, 0, 0, 0, 0, 0, 0, 0, 0, 0, 0, 0, 0,\n",
       "       0, 0, 0, 0, 0, 0, 0, 0, 0, 0, 0, 0, 0, 0, 0, 0, 0, 0, 0, 0, 0, 0,\n",
       "       0, 0, 0, 0, 0, 0, 0, 0, 0, 0, 0, 0, 0, 0, 0, 0, 0, 0, 0, 0, 1, 0,\n",
       "       0, 0, 0, 0, 0, 0, 0, 0, 0, 0, 0, 0, 0, 0, 0, 0, 0, 0, 0, 0, 0, 0,\n",
       "       0, 0, 0, 0, 0, 0, 1, 0, 0, 0, 0, 0, 0, 0, 0, 0, 0, 0, 0, 0, 0, 0,\n",
       "       0, 0, 0, 0, 0, 0, 0, 0, 0, 0, 0, 0, 0, 0, 0, 1, 0, 0, 0, 0, 0, 0,\n",
       "       0, 0, 0, 0, 0, 0, 0, 0, 0, 0, 0, 0, 0, 0, 0, 1, 0, 0, 0, 0, 0, 0,\n",
       "       1, 0, 0, 0, 0, 0, 0, 0, 1, 0, 0, 0, 0, 0, 0, 0, 0, 0, 0, 0, 0, 0,\n",
       "       0, 0, 0, 0, 0, 0, 0, 0, 0, 0, 0, 0, 0, 0, 0, 0, 0, 0, 0, 0, 0, 0,\n",
       "       0, 0, 0, 0, 0, 0, 0])"
      ]
     },
     "execution_count": 113,
     "metadata": {},
     "output_type": "execute_result"
    }
   ],
   "source": [
    "y_pred"
   ]
  },
  {
   "cell_type": "code",
   "execution_count": null,
   "metadata": {},
   "outputs": [],
   "source": []
  },
  {
   "cell_type": "code",
   "execution_count": 74,
   "metadata": {},
   "outputs": [
    {
     "data": {
      "text/plain": [
       "array([0, 0, 0, ..., 0, 0, 0], dtype=int64)"
      ]
     },
     "execution_count": 74,
     "metadata": {},
     "output_type": "execute_result"
    }
   ],
   "source": [
    "predictions"
   ]
  },
  {
   "cell_type": "code",
   "execution_count": 99,
   "metadata": {},
   "outputs": [],
   "source": [
    "gg = pd.DataFrame(predictions)"
   ]
  },
  {
   "cell_type": "code",
   "execution_count": 100,
   "metadata": {},
   "outputs": [],
   "source": [
    "gg.to_csv('telco_predictions.csv')\n"
   ]
  },
  {
   "cell_type": "code",
   "execution_count": 101,
   "metadata": {},
   "outputs": [],
   "source": [
    "gh = pd.read_csv('telco_predictions.csv')\n"
   ]
  },
  {
   "cell_type": "code",
   "execution_count": 129,
   "metadata": {},
   "outputs": [
    {
     "data": {
      "text/html": [
       "<div>\n",
       "<style scoped>\n",
       "    .dataframe tbody tr th:only-of-type {\n",
       "        vertical-align: middle;\n",
       "    }\n",
       "\n",
       "    .dataframe tbody tr th {\n",
       "        vertical-align: top;\n",
       "    }\n",
       "\n",
       "    .dataframe thead th {\n",
       "        text-align: right;\n",
       "    }\n",
       "</style>\n",
       "<table border=\"1\" class=\"dataframe\">\n",
       "  <thead>\n",
       "    <tr style=\"text-align: right;\">\n",
       "      <th></th>\n",
       "      <th>Unnamed: 0</th>\n",
       "      <th>0</th>\n",
       "    </tr>\n",
       "  </thead>\n",
       "  <tbody>\n",
       "    <tr>\n",
       "      <th>3328</th>\n",
       "      <td>3328</td>\n",
       "      <td>0</td>\n",
       "    </tr>\n",
       "    <tr>\n",
       "      <th>3329</th>\n",
       "      <td>3329</td>\n",
       "      <td>0</td>\n",
       "    </tr>\n",
       "    <tr>\n",
       "      <th>3330</th>\n",
       "      <td>3330</td>\n",
       "      <td>0</td>\n",
       "    </tr>\n",
       "    <tr>\n",
       "      <th>3331</th>\n",
       "      <td>3331</td>\n",
       "      <td>0</td>\n",
       "    </tr>\n",
       "    <tr>\n",
       "      <th>3332</th>\n",
       "      <td>3332</td>\n",
       "      <td>0</td>\n",
       "    </tr>\n",
       "  </tbody>\n",
       "</table>\n",
       "</div>"
      ],
      "text/plain": [
       "      Unnamed: 0  0\n",
       "3328        3328  0\n",
       "3329        3329  0\n",
       "3330        3330  0\n",
       "3331        3331  0\n",
       "3332        3332  0"
      ]
     },
     "execution_count": 129,
     "metadata": {},
     "output_type": "execute_result"
    }
   ],
   "source": [
    "\n",
    "gh.tail()"
   ]
  },
  {
   "cell_type": "code",
   "execution_count": null,
   "metadata": {},
   "outputs": [],
   "source": []
  },
  {
   "cell_type": "code",
   "execution_count": null,
   "metadata": {},
   "outputs": [],
   "source": []
  },
  {
   "cell_type": "code",
   "execution_count": null,
   "metadata": {},
   "outputs": [],
   "source": []
  },
  {
   "cell_type": "code",
   "execution_count": 58,
   "metadata": {},
   "outputs": [],
   "source": [
    "dv = pd.DataFrame(y_pred)"
   ]
  },
  {
   "cell_type": "code",
   "execution_count": 54,
   "metadata": {},
   "outputs": [],
   "source": [
    "dv.to_csv('file_name.csv')\n"
   ]
  },
  {
   "cell_type": "code",
   "execution_count": 1,
   "metadata": {},
   "outputs": [
    {
     "ename": "NameError",
     "evalue": "name 'pd' is not defined",
     "output_type": "error",
     "traceback": [
      "\u001b[1;31m---------------------------------------------------------------------------\u001b[0m",
      "\u001b[1;31mNameError\u001b[0m                                 Traceback (most recent call last)",
      "\u001b[1;32m<ipython-input-1-e0c4278d9bb8>\u001b[0m in \u001b[0;36m<module>\u001b[1;34m\u001b[0m\n\u001b[1;32m----> 1\u001b[1;33m \u001b[0mdd\u001b[0m \u001b[1;33m=\u001b[0m \u001b[0mpd\u001b[0m\u001b[1;33m.\u001b[0m\u001b[0mread_csv\u001b[0m\u001b[1;33m(\u001b[0m\u001b[1;34m'file_name.csv'\u001b[0m\u001b[1;33m,\u001b[0m \u001b[0mindex_col\u001b[0m\u001b[1;33m=\u001b[0m\u001b[1;32mNone\u001b[0m\u001b[1;33m)\u001b[0m\u001b[1;33m\u001b[0m\u001b[1;33m\u001b[0m\u001b[0m\n\u001b[0m\u001b[0;32m      2\u001b[0m \u001b[0mdd\u001b[0m\u001b[1;33m.\u001b[0m\u001b[0mhead\u001b[0m\u001b[1;33m(\u001b[0m\u001b[1;33m)\u001b[0m\u001b[1;33m\u001b[0m\u001b[1;33m\u001b[0m\u001b[0m\n",
      "\u001b[1;31mNameError\u001b[0m: name 'pd' is not defined"
     ]
    }
   ],
   "source": [
    "dd = pd.read_csv('file_name.csv', index_col=None)\n",
    "dd.head()"
   ]
  },
  {
   "cell_type": "code",
   "execution_count": 73,
   "metadata": {},
   "outputs": [
    {
     "data": {
      "text/plain": [
       "0    652\n",
       "1     15\n",
       "Name: 0, dtype: int64"
      ]
     },
     "execution_count": 73,
     "metadata": {},
     "output_type": "execute_result"
    }
   ],
   "source": [
    "dd[0].value_counts()"
   ]
  },
  {
   "cell_type": "code",
   "execution_count": null,
   "metadata": {},
   "outputs": [],
   "source": []
  },
  {
   "cell_type": "code",
   "execution_count": null,
   "metadata": {},
   "outputs": [],
   "source": []
  }
 ],
 "metadata": {
  "kernelspec": {
   "display_name": "Python 3",
   "language": "python",
   "name": "python3"
  },
  "language_info": {
   "codemirror_mode": {
    "name": "ipython",
    "version": 3
   },
   "file_extension": ".py",
   "mimetype": "text/x-python",
   "name": "python",
   "nbconvert_exporter": "python",
   "pygments_lexer": "ipython3",
   "version": "3.8.5"
  }
 },
 "nbformat": 4,
 "nbformat_minor": 2
}
