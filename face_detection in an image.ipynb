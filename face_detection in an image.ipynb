{
 "cells": [
  {
   "cell_type": "code",
   "execution_count": 4,
   "metadata": {},
   "outputs": [],
   "source": [
    "\n",
    "import os\n",
    "import cv2\n",
    "import numpy as np"
   ]
  },
  {
   "cell_type": "code",
   "execution_count": 3,
   "metadata": {},
   "outputs": [
    {
     "name": "stdout",
     "output_type": "stream",
     "text": [
      "Collecting opencv-python\n",
      "  Downloading opencv_python-4.5.1.48-cp38-cp38-win_amd64.whl (34.9 MB)\n",
      "Requirement already satisfied: numpy>=1.17.3 in c:\\users\\ericksen\\anaconda3\\lib\\site-packages (from opencv-python) (1.19.2)\n",
      "Installing collected packages: opencv-python\n",
      "Successfully installed opencv-python-4.5.1.48\n"
     ]
    }
   ],
   "source": [
    "!pip install opencv-python"
   ]
  },
  {
   "cell_type": "code",
   "execution_count": 7,
   "metadata": {},
   "outputs": [],
   "source": [
    "def faceDetection(test_img):\n",
    "    gray_img=cv2.cvtColor(test_img,cv2.COLOR_BGR2GRAY)\n",
    "    face_haar_cascade=cv2.CascadeClassifier(r'C:/Users/ericksen/face-recognition-master/haarcascade_frontalface_default.xml')\n",
    "    faces=face_haar_cascade.detectMultiScale(gray_img,scaleFactor=1.3,minNeighbors=5)\n",
    "    return faces,gray_img\n",
    "def train_classifier(faces,face_ID):\n",
    "    face_recognizer=cv2.face.LBPHFaceRecognizer_create()\n",
    "    face_recognizer.train(faces,np.array(faceID))\n",
    "    return face_recognizer\n",
    "def draw_rect(test_img,face):\n",
    "    (x,y,w,h)=face\n",
    "    cv2.rectangle(test_img,(x,y),(x+w,y+h),(255,0,0),thickness=5)\n",
    "\n",
    "def put_text(test_img,text,x,y):\n",
    "    cv2.putText(test_img,text,(x,y),cv2.FONT_HERSHEY_DUPLEX,3,(255,0,0),6)\n",
    "    "
   ]
  },
  {
   "cell_type": "code",
   "execution_count": 8,
   "metadata": {},
   "outputs": [],
   "source": [
    "def labels_for_training_data(directory):\n",
    "    faces=[]\n",
    "    faceID=[]\n",
    "    \n",
    "    for path,subdirnames,filenames in os.walk(directory):\n",
    "        \n",
    "        for filename in filenames:\n",
    "            \n",
    "                \n",
    "            \n",
    "                if filename.startswith(\".\"):\n",
    "\n",
    "                    print(\"Skipping system files\")\n",
    "                    continue\n",
    "                id=os.path.basename(path)\n",
    "                img_path=os.path.join(path,filename)\n",
    "                print(\"img_path\",img_path)\n",
    "                print(\"id:\",id)\n",
    "                test_img=cv2.imread(img_path)\n",
    "                if test_img is None:\n",
    "                      print(\"Image not loaded properly\")\n",
    "                     \n",
    "                      continue\n",
    "                faces_rect,gray_img=faceDetection(test_img)\n",
    "                if len(faces_rect)!=1:\n",
    "                      continue\n",
    "\n",
    "                (x,y,w,h)=faces_rect[0]\n",
    "                rol_gray=gray_img[y:y+w,x:x+h]\n",
    "                faces.append(rol_gray)\n",
    "                faceID.append(int(id))\n",
    "    return faces,faceID"
   ]
  },
  {
   "cell_type": "code",
   "execution_count": 9,
   "metadata": {},
   "outputs": [
    {
     "name": "stdout",
     "output_type": "stream",
     "text": [
      "face detected [[172 156 267 267]]\n"
     ]
    }
   ],
   "source": [
    "\n",
    "test_img=cv2.imread(r'C:/Users/ericksen/face-recognition-master/ap.jpeg')\n",
    "faces_detected,gray_img=faceDetection(test_img)\n",
    "print(\"face detected\",faces_detected)\n",
    "for (x,y,w,h) in faces_detected:\n",
    "    cv2.rectangle(test_img,(x,y),(x+w,y+h),(255,0,0),thickness=5)\n",
    "    pass\n",
    "resized_img=cv2.cv2.resize(test_img,(1000,700))\n",
    "cv2.imshow(\"face detection \",resized_img)\n",
    "cv2.waitKey(0)\n",
    "cv2.destroyAllWindows()"
   ]
  },
  {
   "cell_type": "code",
   "execution_count": null,
   "metadata": {},
   "outputs": [],
   "source": []
  }
 ],
 "metadata": {
  "kernelspec": {
   "display_name": "Python 3",
   "language": "python",
   "name": "python3"
  },
  "language_info": {
   "codemirror_mode": {
    "name": "ipython",
    "version": 3
   },
   "file_extension": ".py",
   "mimetype": "text/x-python",
   "name": "python",
   "nbconvert_exporter": "python",
   "pygments_lexer": "ipython3",
   "version": "3.8.5"
  }
 },
 "nbformat": 4,
 "nbformat_minor": 4
}
