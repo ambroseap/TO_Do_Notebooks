{
 "cells": [
  {
   "cell_type": "code",
   "execution_count": 1,
   "metadata": {},
   "outputs": [],
   "source": [
    "import cv2"
   ]
  },
  {
   "cell_type": "code",
   "execution_count": 2,
   "metadata": {},
   "outputs": [],
   "source": [
    "import os"
   ]
  },
  {
   "cell_type": "code",
   "execution_count": 3,
   "metadata": {},
   "outputs": [],
   "source": [
    "import os  \n",
    "def rename_files():  \n",
    "   #listdir() of the os module returns all the files in the folder \n",
    "   for count, filename in enumerate(os.listdir(\"ap/\")):  \n",
    "       # Here, we will add the count  \n",
    "        dst =\"ap\" + \"\\\\\" + \"ap\" + str(count) +\".jpeg\" \n",
    "        src =\"ap\" + \"\\\\\" + filename \n",
    "#  rename() function will  \n",
    "#  rename all the files  \n",
    "        os.rename(src, dst)  \n",
    "if __name__ == '__main__':  \n",
    "   # Calling rename() function  \n",
    "    rename_files()"
   ]
  },
  {
   "cell_type": "code",
   "execution_count": null,
   "metadata": {},
   "outputs": [],
   "source": []
  },
  {
   "cell_type": "code",
   "execution_count": null,
   "metadata": {},
   "outputs": [],
   "source": []
  }
 ],
 "metadata": {
  "kernelspec": {
   "display_name": "Python 3",
   "language": "python",
   "name": "python3"
  },
  "language_info": {
   "codemirror_mode": {
    "name": "ipython",
    "version": 3
   },
   "file_extension": ".py",
   "mimetype": "text/x-python",
   "name": "python",
   "nbconvert_exporter": "python",
   "pygments_lexer": "ipython3",
   "version": "3.8.5"
  }
 },
 "nbformat": 4,
 "nbformat_minor": 2
}
