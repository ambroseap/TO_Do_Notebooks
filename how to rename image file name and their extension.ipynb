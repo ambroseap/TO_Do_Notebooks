{
 "cells": [
  {
   "cell_type": "code",
   "execution_count": 1,
   "metadata": {},
   "outputs": [],
   "source": [
    "import cv2"
   ]
  },
  {
   "cell_type": "code",
   "execution_count": 2,
   "metadata": {},
   "outputs": [],
   "source": [
    "import os"
   ]
  },
  {
   "cell_type": "code",
   "execution_count": 3,
   "metadata": {},
   "outputs": [
    {
     "data": {
      "text/plain": [
       "'C:\\\\Users\\\\ericksen'"
      ]
     },
     "execution_count": 3,
     "metadata": {},
     "output_type": "execute_result"
    }
   ],
   "source": [
    "os.getcwd()"
   ]
  },
  {
   "cell_type": "code",
   "execution_count": 16,
   "metadata": {},
   "outputs": [
    {
     "ename": "TypeError",
     "evalue": "can only concatenate str (not \"int\") to str",
     "output_type": "error",
     "traceback": [
      "\u001b[1;31m---------------------------------------------------------------------------\u001b[0m",
      "\u001b[1;31mTypeError\u001b[0m                                 Traceback (most recent call last)",
      "\u001b[1;32m<ipython-input-16-3cc9af3102eb>\u001b[0m in \u001b[0;36m<module>\u001b[1;34m\u001b[0m\n\u001b[0;32m      1\u001b[0m \u001b[0mcollection\u001b[0m \u001b[1;33m=\u001b[0m \u001b[1;34m\"Bus/\"\u001b[0m\u001b[1;33m\u001b[0m\u001b[1;33m\u001b[0m\u001b[0m\n\u001b[0;32m      2\u001b[0m \u001b[1;32mfor\u001b[0m \u001b[0mi\u001b[0m\u001b[1;33m,\u001b[0m \u001b[0mfilename\u001b[0m \u001b[1;32min\u001b[0m \u001b[0menumerate\u001b[0m\u001b[1;33m(\u001b[0m\u001b[0mos\u001b[0m\u001b[1;33m.\u001b[0m\u001b[0mlistdir\u001b[0m\u001b[1;33m(\u001b[0m\u001b[0mcollection\u001b[0m\u001b[1;33m)\u001b[0m\u001b[1;33m)\u001b[0m\u001b[1;33m:\u001b[0m\u001b[1;33m\u001b[0m\u001b[1;33m\u001b[0m\u001b[0m\n\u001b[1;32m----> 3\u001b[1;33m     \u001b[0mos\u001b[0m\u001b[1;33m.\u001b[0m\u001b[0mrename\u001b[0m\u001b[1;33m(\u001b[0m\u001b[1;34m\"Bus/\"\u001b[0m \u001b[1;33m+\u001b[0m \u001b[0mfilename\u001b[0m\u001b[1;33m,\u001b[0m \u001b[1;34m\"Bus/\"\u001b[0m \u001b[1;33m+\u001b[0m \u001b[0mint\u001b[0m\u001b[1;33m(\u001b[0m\u001b[0mi\u001b[0m\u001b[1;33m)\u001b[0m \u001b[1;33m+\u001b[0m \u001b[1;34m\".jpg\"\u001b[0m\u001b[1;33m)\u001b[0m\u001b[1;33m\u001b[0m\u001b[1;33m\u001b[0m\u001b[0m\n\u001b[0m",
      "\u001b[1;31mTypeError\u001b[0m: can only concatenate str (not \"int\") to str"
     ]
    }
   ],
   "source": [
    "£to add \n",
    "\n",
    "\n",
    "\n",
    "\n",
    "collection = \"Bus/\" \n",
    "for i, filename in enumerate(os.listdir(collection)):\n",
    "    os.rename(\"Bus/\" + filename, \"Bus/\" + int(i) + \".jpg\")"
   ]
  },
  {
   "cell_type": "code",
   "execution_count": 17,
   "metadata": {},
   "outputs": [],
   "source": [
    "import os  \n",
    "def rename_files():  \n",
    "   #listdir() of the os module returns all the files in the folder \n",
    "   for count, filename in enumerate(os.listdir(\"Car/\")):  \n",
    "       # Here, we will add the count  \n",
    "        dst =\"Car\" + \"\\\\\" + \"car\" + str(count) +\".jpg\" \n",
    "        src =\"Car\" + \"\\\\\" + filename \n",
    "#  rename() function will  \n",
    "#  rename all the files  \n",
    "        os.rename(src, dst)  \n",
    "if __name__ == '__main__':  \n",
    "   # Calling rename() function  \n",
    "    rename_files()"
   ]
  },
  {
   "cell_type": "code",
   "execution_count": 19,
   "metadata": {},
   "outputs": [],
   "source": [
    "import os  \n",
    "def rename_files():  \n",
    "   #listdir() of the os module returns all the files in the folder \n",
    "   for count, filename in enumerate(os.listdir(\"Bus/\")):  \n",
    "       # Here, we will add the count  \n",
    "        dst =\"Bus\" + \"\\\\\" + \"Bus\" + str(count) +\".jpg\" \n",
    "        src =\"Bus\" + \"\\\\\" + filename \n",
    "#  rename() function will  \n",
    "#  rename all the files  \n",
    "        os.rename(src, dst)  \n",
    "if __name__ == '__main__':  \n",
    "   # Calling rename() function  \n",
    "    rename_files()"
   ]
  },
  {
   "cell_type": "code",
   "execution_count": 20,
   "metadata": {},
   "outputs": [],
   "source": [
    "import os  \n",
    "def rename_files():  \n",
    "   #listdir() of the os module returns all the files in the folder \n",
    "   for count, filename in enumerate(os.listdir(\"person/\")):  \n",
    "       # Here, we will add the count  \n",
    "        dst =\"person\" + \"\\\\\" + \"person\" + str(count) +\".jpg\" \n",
    "        src =\"person\" + \"\\\\\" + filename \n",
    "#  rename() function will  \n",
    "#  rename all the files  \n",
    "        os.rename(src, dst)  \n",
    "if __name__ == '__main__':  \n",
    "   # Calling rename() function  \n",
    "    rename_files()"
   ]
  },
  {
   "cell_type": "code",
   "execution_count": 22,
   "metadata": {},
   "outputs": [],
   "source": [
    "import os  \n",
    "def rename_files():  \n",
    "   #listdir() of the os module returns all the files in the folder \n",
    "   for count, filename in enumerate(os.listdir(\"Trailer/\")):  \n",
    "       # Here, we will add the count  \n",
    "        dst =\"Trailer\" + \"\\\\\" + \"Trailer\" + str(count) +\".jpg\" \n",
    "        src =\"Trailer\" + \"\\\\\" + filename \n",
    "#  rename() function will  \n",
    "#  rename all the files  \n",
    "        os.rename(src, dst)  \n",
    "if __name__ == '__main__':  \n",
    "   # Calling rename() function  \n",
    "    rename_files()"
   ]
  },
  {
   "cell_type": "code",
   "execution_count": null,
   "metadata": {},
   "outputs": [],
   "source": []
  }
 ],
 "metadata": {
  "kernelspec": {
   "display_name": "Python 3",
   "language": "python",
   "name": "python3"
  },
  "language_info": {
   "codemirror_mode": {
    "name": "ipython",
    "version": 3
   },
   "file_extension": ".py",
   "mimetype": "text/x-python",
   "name": "python",
   "nbconvert_exporter": "python",
   "pygments_lexer": "ipython3",
   "version": "3.8.5"
  }
 },
 "nbformat": 4,
 "nbformat_minor": 4
}
